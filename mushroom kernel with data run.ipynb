{
  "cells": [
    {
      "metadata": {
        "_uuid": "d41b1aa59a41b1fe6ff243b6d47fd4ed0f6c53d7"
      },
      "cell_type": "markdown",
      "source": "# TPOT Automated ML Exploration with Mushroom Classification \n## By Jeff Hale\n\nThis is my experimentation with the TPOT automated machine learning algorithm with the Mushroom classification task. For more information see [this Medium article](https://medium.com/p/4c063b3e5de9/) I wrote discussing TPOT. "
    },
    {
      "metadata": {
        "_uuid": "8f2839f25d086af736a60e9eeb907d3b93b6e0e5",
        "_cell_guid": "b1076dfc-b9ad-4769-8c92-a6c4dae69d19",
        "trusted": true,
        "scrolled": false
      },
      "cell_type": "code",
      "source": "# import the usual packages\nimport time\nimport gc\nimport pandas as pd\nimport numpy as np\nimport matplotlib.pyplot as plt\nimport seaborn as sns\nimport timeit\nimport category_encoders\n\nfrom sklearn.preprocessing import LabelEncoder\nfrom sklearn.model_selection import cross_val_score\nfrom sklearn.model_selection import train_test_split\nfrom tpot import TPOTClassifier\n\npd.options.display.max_columns = 200\npd.options.display.width = 200\n\n%matplotlib inline\nsns.set(font_scale=1.5, palette=\"colorblind\")\n\n# Input data files are available in the \"../input/\" directory.\n# For example, running this (by clicking run or pressing Shift+Enter) will list the files in the input directory\nimport os\nprint(os.listdir(\"../input\"))",
      "execution_count": 6,
      "outputs": [
        {
          "output_type": "stream",
          "text": "['agaricus-lepiota.csv']\n",
          "name": "stdout"
        }
      ]
    },
    {
      "metadata": {
        "_uuid": "119abcb312525ad1811a1ca793311e16c446a0d0"
      },
      "cell_type": "markdown",
      "source": "Read in the data, encode it, and split it into training and test sets."
    },
    {
      "metadata": {
        "_cell_guid": "79c7e3d0-c299-4dcb-8224-4455121ee9b0",
        "_uuid": "d629ff2d2480ee46fbb7e2d37f6b5fab8052498a",
        "trusted": true,
        "scrolled": true
      },
      "cell_type": "code",
      "source": "df = pd.read_csv('../input/agaricus-lepiota.csv')\n\nX = df.reindex(columns=[x for x in df.columns.values if x != 'class'])        # separate out X\nX = X.apply(LabelEncoder().fit_transform)  # encode the x columns string values as integers\n\ny = df.reindex(columns=['class'])   # separate out y\nprint(y['class'].value_counts())\ny = np.ravel(y)                     # flatten the y array\ny = LabelEncoder().fit_transform(y) # encode y column strings as integer\n\nX_train, X_test, y_train, y_test = train_test_split(X, y, train_size=0.75, test_size=0.25, random_state=10) ",
      "execution_count": 7,
      "outputs": [
        {
          "output_type": "stream",
          "text": "e    4208\np    3916\nName: class, dtype: int64\n",
          "name": "stdout"
        }
      ]
    },
    {
      "metadata": {
        "_uuid": "fd6f25a0b25f2a656ca72607491f29c66d18a322"
      },
      "cell_type": "markdown",
      "source": "Check out the data "
    },
    {
      "metadata": {
        "trusted": true,
        "_uuid": "42b9c07ceb32b1f03fc4fcc5929b53cb3b9ac4fe",
        "scrolled": true
      },
      "cell_type": "code",
      "source": "print(X_train.describe())\nprint(X_train.info())",
      "execution_count": 8,
      "outputs": [
        {
          "output_type": "stream",
          "text": "          capshape   capsurface     capcolor      bruises         odor  gillattachment  gillspacing     gillsize    gillcolor   stalkshape    stalkroot  stalksurfaceabovering  stalksurfacebelowring  \\\ncount  6093.000000  6093.000000  6093.000000  6093.000000  6093.000000     6093.000000  6093.000000  6093.000000  6093.000000  6093.000000  6093.000000            6093.000000            6093.000000   \nmean      3.340391     1.820121     4.470376     0.415723     4.162153        0.974725     0.158214     0.313146     4.763335     0.570162     1.090268               1.579353               1.601510   \nstd       1.598897     1.233882     2.546672     0.492887     2.102190        0.156972     0.364972     0.463811     3.546491     0.495093     1.050463               0.615632               0.671195   \nmin       0.000000     0.000000     0.000000     0.000000     0.000000        0.000000     0.000000     0.000000     0.000000     0.000000     0.000000               0.000000               0.000000   \n25%       2.000000     0.000000     3.000000     0.000000     2.000000        1.000000     0.000000     0.000000     2.000000     0.000000     0.000000               1.000000               1.000000   \n50%       3.000000     2.000000     4.000000     0.000000     5.000000        1.000000     0.000000     0.000000     5.000000     1.000000     1.000000               2.000000               2.000000   \n75%       5.000000     3.000000     8.000000     1.000000     5.000000        1.000000     0.000000     1.000000     7.000000     1.000000     1.000000               2.000000               2.000000   \nmax       5.000000     3.000000     9.000000     1.000000     8.000000        1.000000     1.000000     1.000000    11.000000     1.000000     4.000000               3.000000               3.000000   \n\n       stalkcolorabovering  stalkcolorbelowring  veiltype    veilcolor   ringnumber     ringtype  sporeprintcolor   population      habitat  \ncount          6093.000000          6093.000000    6093.0  6093.000000  6093.000000  6093.000000      6093.000000  6093.000000  6093.000000  \nmean              5.807156             5.781553       0.0     1.967011     1.070901     2.279501         3.628590     3.661086     1.517151  \nstd               1.910438             1.919346       0.0     0.234279     0.272199     1.803777         2.392553     1.236559     1.724902  \nmin               0.000000             0.000000       0.0     0.000000     0.000000     0.000000         0.000000     0.000000     0.000000  \n25%               6.000000             6.000000       0.0     2.000000     1.000000     0.000000         2.000000     3.000000     0.000000  \n50%               7.000000             7.000000       0.0     2.000000     1.000000     2.000000         3.000000     4.000000     1.000000  \n75%               7.000000             7.000000       0.0     2.000000     1.000000     4.000000         7.000000     4.000000     2.000000  \nmax               8.000000             8.000000       0.0     3.000000     2.000000     4.000000         8.000000     5.000000     6.000000  \n<class 'pandas.core.frame.DataFrame'>\nInt64Index: 6093 entries, 6294 to 1289\nData columns (total 22 columns):\ncapshape                 6093 non-null int64\ncapsurface               6093 non-null int64\ncapcolor                 6093 non-null int64\nbruises                  6093 non-null int64\nodor                     6093 non-null int64\ngillattachment           6093 non-null int64\ngillspacing              6093 non-null int64\ngillsize                 6093 non-null int64\ngillcolor                6093 non-null int64\nstalkshape               6093 non-null int64\nstalkroot                6093 non-null int64\nstalksurfaceabovering    6093 non-null int64\nstalksurfacebelowring    6093 non-null int64\nstalkcolorabovering      6093 non-null int64\nstalkcolorbelowring      6093 non-null int64\nveiltype                 6093 non-null int64\nveilcolor                6093 non-null int64\nringnumber               6093 non-null int64\nringtype                 6093 non-null int64\nsporeprintcolor          6093 non-null int64\npopulation               6093 non-null int64\nhabitat                  6093 non-null int64\ndtypes: int64(22)\nmemory usage: 1.1 MB\nNone\n",
          "name": "stdout"
        }
      ]
    },
    {
      "metadata": {
        "_uuid": "18a1d4d4df91f593170bbc1252a1944761235874"
      },
      "cell_type": "markdown",
      "source": "Instantiate TPOTclassifier object - the generation and population_size determine how many populations are made."
    },
    {
      "metadata": {
        "trusted": true,
        "scrolled": false,
        "_uuid": "c6c127aef966f70eff15497c892bae81833b82ff"
      },
      "cell_type": "code",
      "source": "tpot = TPOTClassifier(verbosity=3, \n                      scoring=\"accuracy\", \n                      random_state=10, \n                      periodic_checkpoint_folder=\"tpot_mushroom_results\", \n                      n_jobs=-1, \n                      generations=2, \n                      population_size=10)\ntimes = []\nscores = []\nwinning_pipes = []\n\n# run several fits \nfor x in range(10):\n    start_time = timeit.default_timer()\n    tpot.fit(X_train, y_train)\n    elapsed = timeit.default_timer() - start_time\n    times.append(elapsed)\n    winning_pipes.append(tpot.fitted_pipeline_)\n    scores.append(tpot.score(X_test, y_test))\n    tpot.export('tpot_mushroom.py')\n\n# output results\ntimes = [time/60 for time in times]\nprint('Times:', times)\nprint('Scores:', scores)   \nprint('Winning pipelines:', winning_pipes)",
      "execution_count": 9,
      "outputs": [
        {
          "output_type": "stream",
          "text": "\rOptimization Progress:   0%|          | 0/30 [00:00<?, ?pipeline/s]",
          "name": "stderr"
        },
        {
          "output_type": "stream",
          "text": "30 operators have been imported by TPOT.\n",
          "name": "stdout"
        },
        {
          "output_type": "stream",
          "text": "Optimization Progress:  37%|███▋      | 11/30 [00:31<03:29, 11.05s/pipeline]",
          "name": "stderr"
        },
        {
          "output_type": "stream",
          "text": "Created new folder to save periodic pipeline: tpot_mushroom_results\nSaving best periodic pipeline to tpot_mushroom_results/pipeline_2018.08.22_02-48-03.py\n_pre_test decorator: _random_mutation_operator: num_test=0 Found array with 0 feature(s) (shape=(50, 0)) while a minimum of 1 is required.\n_pre_test decorator: _random_mutation_operator: num_test=0 Unsupported set of arguments: The combination of penalty='l1' and loss='squared_hinge' are not supported when dual=True, Parameters: penalty='l1', loss='squared_hinge', dual=True\n",
          "name": "stdout"
        },
        {
          "output_type": "stream",
          "text": "Optimization Progress:  70%|███████   | 21/30 [00:54<01:29,  9.97s/pipeline]",
          "name": "stderr"
        },
        {
          "output_type": "stream",
          "text": "Generation 1 - Current Pareto front scores:\n-1\t0.9991795203101026\tDecisionTreeClassifier(input_matrix, DecisionTreeClassifier__criterion=gini, DecisionTreeClassifier__max_depth=9, DecisionTreeClassifier__min_samples_leaf=5, DecisionTreeClassifier__min_samples_split=18)\n-2\t1.0\tRandomForestClassifier(PolynomialFeatures(input_matrix, PolynomialFeatures__degree=2, PolynomialFeatures__include_bias=False, PolynomialFeatures__interaction_only=False), RandomForestClassifier__bootstrap=True, RandomForestClassifier__criterion=entropy, RandomForestClassifier__max_features=0.55, RandomForestClassifier__min_samples_leaf=18, RandomForestClassifier__min_samples_split=16, RandomForestClassifier__n_estimators=100)\n\n",
          "name": "stdout"
        },
        {
          "output_type": "stream",
          "text": "                                                                            \r",
          "name": "stderr"
        },
        {
          "output_type": "stream",
          "text": "Generation 2 - Current Pareto front scores:\n-1\t1.0\tKNeighborsClassifier(input_matrix, KNeighborsClassifier__n_neighbors=31, KNeighborsClassifier__p=1, KNeighborsClassifier__weights=distance)\n\n",
          "name": "stdout"
        },
        {
          "output_type": "stream",
          "text": "Optimization Progress:  30%|███       | 9/30 [00:00<00:00, 465.38pipeline/s]",
          "name": "stderr"
        },
        {
          "output_type": "stream",
          "text": "_pre_test decorator: _generate: num_test=0 Input X must be non-negative\n_pre_test decorator: _generate: num_test=0 Input X must be non-negative\nPipeline encountered that has previously been evaluated during the optimization process. Using the score from the previous evaluation.\nPipeline encountered that has previously been evaluated during the optimization process. Using the score from the previous evaluation.\nPipeline encountered that has previously been evaluated during the optimization process. Using the score from the previous evaluation.\nPipeline encountered that has previously been evaluated during the optimization process. Using the score from the previous evaluation.\nPipeline encountered that has previously been evaluated during the optimization process. Using the score from the previous evaluation.\nPipeline encountered that has previously been evaluated during the optimization process. Using the score from the previous evaluation.\nPipeline encountered that has previously been evaluated during the optimization process. Using the score from the previous evaluation.\nPipeline encountered that has previously been evaluated during the optimization process. Using the score from the previous evaluation.\nPipeline encountered that has previously been evaluated during the optimization process. Using the score from the previous evaluation.\n",
          "name": "stdout"
        },
        {
          "output_type": "stream",
          "text": "Optimization Progress:  67%|██████▋   | 20/30 [00:14<00:22,  2.20s/pipeline]",
          "name": "stderr"
        },
        {
          "output_type": "stream",
          "text": "Generation 1 - Current Pareto front scores:\n-1\t0.9995073891625615\tExtraTreesClassifier(input_matrix, ExtraTreesClassifier__bootstrap=True, ExtraTreesClassifier__criterion=entropy, ExtraTreesClassifier__max_features=0.4, ExtraTreesClassifier__min_samples_leaf=7, ExtraTreesClassifier__min_samples_split=15, ExtraTreesClassifier__n_estimators=100)\n-2\t1.0\tRandomForestClassifier(PolynomialFeatures(input_matrix, PolynomialFeatures__degree=2, PolynomialFeatures__include_bias=False, PolynomialFeatures__interaction_only=False), RandomForestClassifier__bootstrap=True, RandomForestClassifier__criterion=entropy, RandomForestClassifier__max_features=0.55, RandomForestClassifier__min_samples_leaf=18, RandomForestClassifier__min_samples_split=16, RandomForestClassifier__n_estimators=100)\n\n",
          "name": "stdout"
        },
        {
          "output_type": "stream",
          "text": "Optimization Progress:  67%|██████▋   | 20/30 [00:15<00:15,  1.55s/pipeline]",
          "name": "stderr"
        },
        {
          "output_type": "stream",
          "text": "_pre_test decorator: _random_mutation_operator: num_test=0 Unsupported set of arguments: The combination of penalty='l1' and loss='squared_hinge' are not supported when dual=True, Parameters: penalty='l1', loss='squared_hinge', dual=True\n",
          "name": "stdout"
        },
        {
          "output_type": "stream",
          "text": "                                                                            \r",
          "name": "stderr"
        },
        {
          "output_type": "stream",
          "text": "Generation 2 - Current Pareto front scores:\n-1\t1.0\tRandomForestClassifier(input_matrix, RandomForestClassifier__bootstrap=True, RandomForestClassifier__criterion=entropy, RandomForestClassifier__max_features=0.55, RandomForestClassifier__min_samples_leaf=18, RandomForestClassifier__min_samples_split=18, RandomForestClassifier__n_estimators=100)\n\n",
          "name": "stdout"
        },
        {
          "output_type": "stream",
          "text": "Optimization Progress:  30%|███       | 9/30 [00:00<00:00, 404.30pipeline/s]",
          "name": "stderr"
        },
        {
          "output_type": "stream",
          "text": "_pre_test decorator: _generate: num_test=0 Input X must be non-negative\n_pre_test decorator: _generate: num_test=0 Input X must be non-negative\nPipeline encountered that has previously been evaluated during the optimization process. Using the score from the previous evaluation.\nPipeline encountered that has previously been evaluated during the optimization process. Using the score from the previous evaluation.\nPipeline encountered that has previously been evaluated during the optimization process. Using the score from the previous evaluation.\nPipeline encountered that has previously been evaluated during the optimization process. Using the score from the previous evaluation.\nPipeline encountered that has previously been evaluated during the optimization process. Using the score from the previous evaluation.\nPipeline encountered that has previously been evaluated during the optimization process. Using the score from the previous evaluation.\nPipeline encountered that has previously been evaluated during the optimization process. Using the score from the previous evaluation.\nPipeline encountered that has previously been evaluated during the optimization process. Using the score from the previous evaluation.\nPipeline encountered that has previously been evaluated during the optimization process. Using the score from the previous evaluation.\n",
          "name": "stdout"
        },
        {
          "output_type": "stream",
          "text": "Optimization Progress:  67%|██████▋   | 20/30 [00:07<00:21,  2.18s/pipeline]",
          "name": "stderr"
        },
        {
          "output_type": "stream",
          "text": "Generation 1 - Current Pareto front scores:\n-1\t0.9908121362411013\tDecisionTreeClassifier(input_matrix, DecisionTreeClassifier__criterion=gini, DecisionTreeClassifier__max_depth=7, DecisionTreeClassifier__min_samples_leaf=14, DecisionTreeClassifier__min_samples_split=6)\n-2\t1.0\tRandomForestClassifier(PolynomialFeatures(input_matrix, PolynomialFeatures__degree=2, PolynomialFeatures__include_bias=False, PolynomialFeatures__interaction_only=False), RandomForestClassifier__bootstrap=True, RandomForestClassifier__criterion=entropy, RandomForestClassifier__max_features=0.55, RandomForestClassifier__min_samples_leaf=18, RandomForestClassifier__min_samples_split=16, RandomForestClassifier__n_estimators=100)\n\n",
          "name": "stdout"
        },
        {
          "output_type": "stream",
          "text": "                                                                            \r",
          "name": "stderr"
        },
        {
          "output_type": "stream",
          "text": "Generation 2 - Current Pareto front scores:\n-1\t0.9908121362411013\tDecisionTreeClassifier(input_matrix, DecisionTreeClassifier__criterion=gini, DecisionTreeClassifier__max_depth=7, DecisionTreeClassifier__min_samples_leaf=14, DecisionTreeClassifier__min_samples_split=6)\n-2\t1.0\tRandomForestClassifier(PolynomialFeatures(input_matrix, PolynomialFeatures__degree=2, PolynomialFeatures__include_bias=False, PolynomialFeatures__interaction_only=False), RandomForestClassifier__bootstrap=True, RandomForestClassifier__criterion=entropy, RandomForestClassifier__max_features=0.55, RandomForestClassifier__min_samples_leaf=18, RandomForestClassifier__min_samples_split=16, RandomForestClassifier__n_estimators=100)\n\n",
          "name": "stdout"
        },
        {
          "output_type": "stream",
          "text": "Optimization Progress:  30%|███       | 9/30 [00:00<00:00, 331.58pipeline/s]",
          "name": "stderr"
        },
        {
          "output_type": "stream",
          "text": "_pre_test decorator: _generate: num_test=0 Input X must be non-negative\n_pre_test decorator: _generate: num_test=0 Input X must be non-negative\nPipeline encountered that has previously been evaluated during the optimization process. Using the score from the previous evaluation.\nPipeline encountered that has previously been evaluated during the optimization process. Using the score from the previous evaluation.\nPipeline encountered that has previously been evaluated during the optimization process. Using the score from the previous evaluation.\nPipeline encountered that has previously been evaluated during the optimization process. Using the score from the previous evaluation.\nPipeline encountered that has previously been evaluated during the optimization process. Using the score from the previous evaluation.\nPipeline encountered that has previously been evaluated during the optimization process. Using the score from the previous evaluation.\nPipeline encountered that has previously been evaluated during the optimization process. Using the score from the previous evaluation.\nPipeline encountered that has previously been evaluated during the optimization process. Using the score from the previous evaluation.\nPipeline encountered that has previously been evaluated during the optimization process. Using the score from the previous evaluation.\n",
          "name": "stdout"
        },
        {
          "output_type": "stream",
          "text": "Optimization Progress:  33%|███▎      | 10/30 [00:00<00:00, 61.02pipeline/s]",
          "name": "stderr"
        },
        {
          "output_type": "stream",
          "text": "_pre_test decorator: _random_mutation_operator: num_test=0 Unsupported set of arguments: The combination of penalty='l1' and loss='squared_hinge' are not supported when dual=True, Parameters: penalty='l1', loss='squared_hinge', dual=True\n",
          "name": "stdout"
        },
        {
          "output_type": "stream",
          "text": "                                                                            \r",
          "name": "stderr"
        },
        {
          "output_type": "stream",
          "text": "Generation 1 - Current Pareto front scores:\n-1\t1.0\tExtraTreesClassifier(input_matrix, ExtraTreesClassifier__bootstrap=False, ExtraTreesClassifier__criterion=gini, ExtraTreesClassifier__max_features=0.5, ExtraTreesClassifier__min_samples_leaf=2, ExtraTreesClassifier__min_samples_split=18, ExtraTreesClassifier__n_estimators=100)\n\n_pre_test decorator: _random_mutation_operator: num_test=0 Input X must be non-negative\n_pre_test decorator: _random_mutation_operator: num_test=0 manhattan was provided as affinity. Ward can only work with euclidean distances.\n",
          "name": "stdout"
        },
        {
          "output_type": "stream",
          "text": "Optimization Progress:  67%|██████▋   | 20/30 [00:09<00:09,  1.05pipeline/s]",
          "name": "stderr"
        },
        {
          "output_type": "stream",
          "text": "_pre_test decorator: _random_mutation_operator: num_test=0 Input X must be non-negative\nInvalid pipeline encountered. Skipping its evaluation.\n",
          "name": "stdout"
        },
        {
          "output_type": "stream",
          "text": "                                                                            \r",
          "name": "stderr"
        },
        {
          "output_type": "stream",
          "text": "Generation 2 - Current Pareto front scores:\n-1\t1.0\tExtraTreesClassifier(input_matrix, ExtraTreesClassifier__bootstrap=False, ExtraTreesClassifier__criterion=gini, ExtraTreesClassifier__max_features=0.5, ExtraTreesClassifier__min_samples_leaf=2, ExtraTreesClassifier__min_samples_split=18, ExtraTreesClassifier__n_estimators=100)\n\n",
          "name": "stdout"
        },
        {
          "output_type": "stream",
          "text": "Optimization Progress:  33%|███▎      | 10/30 [00:00<00:00, 265.11pipeline/s]",
          "name": "stderr"
        },
        {
          "output_type": "stream",
          "text": "_pre_test decorator: _generate: num_test=0 Input X must be non-negative\n_pre_test decorator: _generate: num_test=0 Input X must be non-negative\nPipeline encountered that has previously been evaluated during the optimization process. Using the score from the previous evaluation.\nPipeline encountered that has previously been evaluated during the optimization process. Using the score from the previous evaluation.\nPipeline encountered that has previously been evaluated during the optimization process. Using the score from the previous evaluation.\nPipeline encountered that has previously been evaluated during the optimization process. Using the score from the previous evaluation.\nPipeline encountered that has previously been evaluated during the optimization process. Using the score from the previous evaluation.\nPipeline encountered that has previously been evaluated during the optimization process. Using the score from the previous evaluation.\nPipeline encountered that has previously been evaluated during the optimization process. Using the score from the previous evaluation.\nPipeline encountered that has previously been evaluated during the optimization process. Using the score from the previous evaluation.\nPipeline encountered that has previously been evaluated during the optimization process. Using the score from the previous evaluation.\n_pre_test decorator: _random_mutation_operator: num_test=0 Input X must be non-negative\n",
          "name": "stdout"
        },
        {
          "output_type": "stream",
          "text": "Optimization Progress:  33%|███▎      | 10/30 [00:00<00:00, 82.40pipeline/s] ",
          "name": "stderr"
        },
        {
          "output_type": "stream",
          "text": "_pre_test decorator: _random_mutation_operator: num_test=0 Input X must be non-negative\n_pre_test decorator: _random_mutation_operator: num_test=0 Unsupported set of arguments: The combination of penalty='l1' and loss='logistic_regression' are not supported when dual=True, Parameters: penalty='l1', loss='logistic_regression', dual=True\n",
          "name": "stdout"
        },
        {
          "output_type": "stream",
          "text": "Optimization Progress:  67%|██████▋   | 20/30 [00:05<00:04,  2.46pipeline/s]",
          "name": "stderr"
        },
        {
          "output_type": "stream",
          "text": "Generation 1 - Current Pareto front scores:\n-1\t1.0\tGradientBoostingClassifier(input_matrix, GradientBoostingClassifier__learning_rate=1.0, GradientBoostingClassifier__max_depth=7, GradientBoostingClassifier__max_features=0.8500000000000001, GradientBoostingClassifier__min_samples_leaf=1, GradientBoostingClassifier__min_samples_split=2, GradientBoostingClassifier__n_estimators=100, GradientBoostingClassifier__subsample=0.7500000000000001)\n\n_pre_test decorator: _random_mutation_operator: num_test=0 X contains negative values.\n",
          "name": "stdout"
        },
        {
          "output_type": "stream",
          "text": "                                                                            \r",
          "name": "stderr"
        },
        {
          "output_type": "stream",
          "text": "Generation 2 - Current Pareto front scores:\n-1\t1.0\tGradientBoostingClassifier(input_matrix, GradientBoostingClassifier__learning_rate=1.0, GradientBoostingClassifier__max_depth=7, GradientBoostingClassifier__max_features=0.8500000000000001, GradientBoostingClassifier__min_samples_leaf=1, GradientBoostingClassifier__min_samples_split=2, GradientBoostingClassifier__n_estimators=100, GradientBoostingClassifier__subsample=0.7500000000000001)\n\n",
          "name": "stdout"
        },
        {
          "output_type": "stream",
          "text": "Optimization Progress:  33%|███▎      | 10/30 [00:00<00:00, 127.17pipeline/s]",
          "name": "stderr"
        },
        {
          "output_type": "stream",
          "text": "_pre_test decorator: _generate: num_test=0 Input X must be non-negative\n_pre_test decorator: _generate: num_test=0 Input X must be non-negative\nPipeline encountered that has previously been evaluated during the optimization process. Using the score from the previous evaluation.\nPipeline encountered that has previously been evaluated during the optimization process. Using the score from the previous evaluation.\nPipeline encountered that has previously been evaluated during the optimization process. Using the score from the previous evaluation.\nPipeline encountered that has previously been evaluated during the optimization process. Using the score from the previous evaluation.\nPipeline encountered that has previously been evaluated during the optimization process. Using the score from the previous evaluation.\nPipeline encountered that has previously been evaluated during the optimization process. Using the score from the previous evaluation.\nPipeline encountered that has previously been evaluated during the optimization process. Using the score from the previous evaluation.\nPipeline encountered that has previously been evaluated during the optimization process. Using the score from the previous evaluation.\nPipeline encountered that has previously been evaluated during the optimization process. Using the score from the previous evaluation.\n_pre_test decorator: _random_mutation_operator: num_test=0 Unsupported set of arguments: The combination of penalty='l1' and loss='logistic_regression' are not supported when dual=True, Parameters: penalty='l1', loss='logistic_regression', dual=True\n",
          "name": "stdout"
        },
        {
          "output_type": "stream",
          "text": "Optimization Progress:  33%|███▎      | 10/30 [00:00<00:00, 34.95pipeline/s] ",
          "name": "stderr"
        },
        {
          "output_type": "stream",
          "text": "_pre_test decorator: _random_mutation_operator: num_test=0 Unsupported set of arguments: The combination of penalty='l1' and loss='logistic_regression' are not supported when dual=True, Parameters: penalty='l1', loss='logistic_regression', dual=True\n",
          "name": "stdout"
        },
        {
          "output_type": "stream",
          "text": "Optimization Progress:  67%|██████▋   | 20/30 [00:09<00:13,  1.35s/pipeline]",
          "name": "stderr"
        },
        {
          "output_type": "stream",
          "text": "Generation 1 - Current Pareto front scores:\n-1\t0.9801426711415623\tGradientBoostingClassifier(input_matrix, GradientBoostingClassifier__learning_rate=0.001, GradientBoostingClassifier__max_depth=5, GradientBoostingClassifier__max_features=0.7500000000000001, GradientBoostingClassifier__min_samples_leaf=18, GradientBoostingClassifier__min_samples_split=15, GradientBoostingClassifier__n_estimators=100, GradientBoostingClassifier__subsample=0.3)\n-2\t1.0\tRandomForestClassifier(PolynomialFeatures(input_matrix, PolynomialFeatures__degree=2, PolynomialFeatures__include_bias=False, PolynomialFeatures__interaction_only=False), RandomForestClassifier__bootstrap=True, RandomForestClassifier__criterion=entropy, RandomForestClassifier__max_features=0.55, RandomForestClassifier__min_samples_leaf=18, RandomForestClassifier__min_samples_split=16, RandomForestClassifier__n_estimators=100)\n\n",
          "name": "stdout"
        },
        {
          "output_type": "stream",
          "text": "                                                                            \r",
          "name": "stderr"
        },
        {
          "output_type": "stream",
          "text": "Generation 2 - Current Pareto front scores:\n-1\t1.0\tRandomForestClassifier(input_matrix, RandomForestClassifier__bootstrap=True, RandomForestClassifier__criterion=entropy, RandomForestClassifier__max_features=0.55, RandomForestClassifier__min_samples_leaf=19, RandomForestClassifier__min_samples_split=16, RandomForestClassifier__n_estimators=100)\n\n",
          "name": "stdout"
        },
        {
          "output_type": "stream",
          "text": "Optimization Progress:  33%|███▎      | 10/30 [00:00<00:00, 214.16pipeline/s]",
          "name": "stderr"
        },
        {
          "output_type": "stream",
          "text": "_pre_test decorator: _generate: num_test=0 Input X must be non-negative\n_pre_test decorator: _generate: num_test=0 Input X must be non-negative\nPipeline encountered that has previously been evaluated during the optimization process. Using the score from the previous evaluation.\nPipeline encountered that has previously been evaluated during the optimization process. Using the score from the previous evaluation.\nPipeline encountered that has previously been evaluated during the optimization process. Using the score from the previous evaluation.\nPipeline encountered that has previously been evaluated during the optimization process. Using the score from the previous evaluation.\nPipeline encountered that has previously been evaluated during the optimization process. Using the score from the previous evaluation.\nPipeline encountered that has previously been evaluated during the optimization process. Using the score from the previous evaluation.\nPipeline encountered that has previously been evaluated during the optimization process. Using the score from the previous evaluation.\nPipeline encountered that has previously been evaluated during the optimization process. Using the score from the previous evaluation.\nPipeline encountered that has previously been evaluated during the optimization process. Using the score from the previous evaluation.\n_pre_test decorator: _random_mutation_operator: num_test=0 Input X must be non-negative\n",
          "name": "stdout"
        },
        {
          "output_type": "stream",
          "text": "Optimization Progress:  33%|███▎      | 10/30 [00:00<00:00, 48.30pipeline/s] ",
          "name": "stderr"
        },
        {
          "output_type": "stream",
          "text": "_pre_test decorator: _random_mutation_operator: num_test=0 Input X must be non-negative\n",
          "name": "stdout"
        },
        {
          "output_type": "stream",
          "text": "Optimization Progress:  67%|██████▋   | 20/30 [00:06<00:10,  1.01s/pipeline]",
          "name": "stderr"
        },
        {
          "output_type": "stream",
          "text": "Generation 1 - Current Pareto front scores:\n-1\t0.9842445307768987\tGradientBoostingClassifier(input_matrix, GradientBoostingClassifier__learning_rate=0.001, GradientBoostingClassifier__max_depth=5, GradientBoostingClassifier__max_features=0.7500000000000001, GradientBoostingClassifier__min_samples_leaf=18, GradientBoostingClassifier__min_samples_split=15, GradientBoostingClassifier__n_estimators=100, GradientBoostingClassifier__subsample=0.45)\n-2\t1.0\tRandomForestClassifier(PolynomialFeatures(input_matrix, PolynomialFeatures__degree=2, PolynomialFeatures__include_bias=False, PolynomialFeatures__interaction_only=False), RandomForestClassifier__bootstrap=True, RandomForestClassifier__criterion=entropy, RandomForestClassifier__max_features=0.55, RandomForestClassifier__min_samples_leaf=18, RandomForestClassifier__min_samples_split=16, RandomForestClassifier__n_estimators=100)\n\n",
          "name": "stdout"
        },
        {
          "output_type": "stream",
          "text": "Optimization Progress:  70%|███████   | 21/30 [00:07<00:06,  1.38pipeline/s]",
          "name": "stderr"
        },
        {
          "output_type": "stream",
          "text": "Invalid pipeline encountered. Skipping its evaluation.\n",
          "name": "stdout"
        },
        {
          "output_type": "stream",
          "text": "                                                                            \r",
          "name": "stderr"
        },
        {
          "output_type": "stream",
          "text": "Generation 2 - Current Pareto front scores:\n-1\t0.9963902128296022\tXGBClassifier(input_matrix, XGBClassifier__learning_rate=0.5, XGBClassifier__max_depth=7, XGBClassifier__min_child_weight=9, XGBClassifier__n_estimators=100, XGBClassifier__nthread=1, XGBClassifier__subsample=0.2)\n-2\t1.0\tRandomForestClassifier(PolynomialFeatures(input_matrix, PolynomialFeatures__degree=2, PolynomialFeatures__include_bias=False, PolynomialFeatures__interaction_only=False), RandomForestClassifier__bootstrap=True, RandomForestClassifier__criterion=entropy, RandomForestClassifier__max_features=0.55, RandomForestClassifier__min_samples_leaf=18, RandomForestClassifier__min_samples_split=16, RandomForestClassifier__n_estimators=100)\n\n",
          "name": "stdout"
        },
        {
          "output_type": "stream",
          "text": "Optimization Progress:  30%|███       | 9/30 [00:00<00:00, 321.88pipeline/s]",
          "name": "stderr"
        },
        {
          "output_type": "stream",
          "text": "_pre_test decorator: _generate: num_test=0 Input X must be non-negative\n_pre_test decorator: _generate: num_test=0 Input X must be non-negative\nPipeline encountered that has previously been evaluated during the optimization process. Using the score from the previous evaluation.\nPipeline encountered that has previously been evaluated during the optimization process. Using the score from the previous evaluation.\nPipeline encountered that has previously been evaluated during the optimization process. Using the score from the previous evaluation.\nPipeline encountered that has previously been evaluated during the optimization process. Using the score from the previous evaluation.\nPipeline encountered that has previously been evaluated during the optimization process. Using the score from the previous evaluation.\nPipeline encountered that has previously been evaluated during the optimization process. Using the score from the previous evaluation.\nPipeline encountered that has previously been evaluated during the optimization process. Using the score from the previous evaluation.\nPipeline encountered that has previously been evaluated during the optimization process. Using the score from the previous evaluation.\nPipeline encountered that has previously been evaluated during the optimization process. Using the score from the previous evaluation.\n",
          "name": "stdout"
        },
        {
          "output_type": "stream",
          "text": "Optimization Progress:  33%|███▎      | 10/30 [00:00<00:00, 40.01pipeline/s]",
          "name": "stderr"
        },
        {
          "output_type": "stream",
          "text": "Pipeline encountered that has previously been evaluated during the optimization process. Using the score from the previous evaluation.\n",
          "name": "stdout"
        },
        {
          "output_type": "stream",
          "text": "Optimization Progress:  67%|██████▋   | 20/30 [00:09<00:13,  1.38s/pipeline]",
          "name": "stderr"
        },
        {
          "output_type": "stream",
          "text": "Generation 1 - Current Pareto front scores:\n-1\t0.9990153166976231\tExtraTreesClassifier(input_matrix, ExtraTreesClassifier__bootstrap=True, ExtraTreesClassifier__criterion=gini, ExtraTreesClassifier__max_features=0.35000000000000003, ExtraTreesClassifier__min_samples_leaf=12, ExtraTreesClassifier__min_samples_split=4, ExtraTreesClassifier__n_estimators=100)\n-2\t1.0\tRandomForestClassifier(PolynomialFeatures(input_matrix, PolynomialFeatures__degree=2, PolynomialFeatures__include_bias=False, PolynomialFeatures__interaction_only=False), RandomForestClassifier__bootstrap=True, RandomForestClassifier__criterion=entropy, RandomForestClassifier__max_features=0.55, RandomForestClassifier__min_samples_leaf=18, RandomForestClassifier__min_samples_split=16, RandomForestClassifier__n_estimators=100)\n\n",
          "name": "stdout"
        },
        {
          "output_type": "stream",
          "text": "Optimization Progress:  67%|██████▋   | 20/30 [00:09<00:09,  1.02pipeline/s]",
          "name": "stderr"
        },
        {
          "output_type": "stream",
          "text": "_pre_test decorator: _random_mutation_operator: num_test=0 Found array with 0 feature(s) (shape=(50, 0)) while a minimum of 1 is required.\n_pre_test decorator: _random_mutation_operator: num_test=0 Input X must be non-negative\n",
          "name": "stdout"
        },
        {
          "output_type": "stream",
          "text": "                                                                            \r",
          "name": "stderr"
        },
        {
          "output_type": "stream",
          "text": "Generation 2 - Current Pareto front scores:\n-1\t0.9990153166976231\tExtraTreesClassifier(input_matrix, ExtraTreesClassifier__bootstrap=True, ExtraTreesClassifier__criterion=gini, ExtraTreesClassifier__max_features=0.35000000000000003, ExtraTreesClassifier__min_samples_leaf=12, ExtraTreesClassifier__min_samples_split=4, ExtraTreesClassifier__n_estimators=100)\n-2\t1.0\tRandomForestClassifier(PolynomialFeatures(input_matrix, PolynomialFeatures__degree=2, PolynomialFeatures__include_bias=False, PolynomialFeatures__interaction_only=False), RandomForestClassifier__bootstrap=True, RandomForestClassifier__criterion=entropy, RandomForestClassifier__max_features=0.55, RandomForestClassifier__min_samples_leaf=18, RandomForestClassifier__min_samples_split=16, RandomForestClassifier__n_estimators=100)\n\n",
          "name": "stdout"
        },
        {
          "output_type": "stream",
          "text": "Optimization Progress:  30%|███       | 9/30 [00:00<00:00, 382.87pipeline/s]",
          "name": "stderr"
        },
        {
          "output_type": "stream",
          "text": "_pre_test decorator: _generate: num_test=0 Input X must be non-negative\n_pre_test decorator: _generate: num_test=0 Input X must be non-negative\nPipeline encountered that has previously been evaluated during the optimization process. Using the score from the previous evaluation.\nPipeline encountered that has previously been evaluated during the optimization process. Using the score from the previous evaluation.\nPipeline encountered that has previously been evaluated during the optimization process. Using the score from the previous evaluation.\nPipeline encountered that has previously been evaluated during the optimization process. Using the score from the previous evaluation.\nPipeline encountered that has previously been evaluated during the optimization process. Using the score from the previous evaluation.\nPipeline encountered that has previously been evaluated during the optimization process. Using the score from the previous evaluation.\nPipeline encountered that has previously been evaluated during the optimization process. Using the score from the previous evaluation.\nPipeline encountered that has previously been evaluated during the optimization process. Using the score from the previous evaluation.\nPipeline encountered that has previously been evaluated during the optimization process. Using the score from the previous evaluation.\n",
          "name": "stdout"
        },
        {
          "output_type": "stream",
          "text": "Optimization Progress:  33%|███▎      | 10/30 [00:00<00:00, 28.94pipeline/s]",
          "name": "stderr"
        },
        {
          "output_type": "stream",
          "text": "_pre_test decorator: _random_mutation_operator: num_test=0 Input X must be non-negative\nPipeline encountered that has previously been evaluated during the optimization process. Using the score from the previous evaluation.\n",
          "name": "stdout"
        },
        {
          "output_type": "stream",
          "text": "Optimization Progress:  67%|██████▋   | 20/30 [00:06<00:06,  1.64pipeline/s]",
          "name": "stderr"
        },
        {
          "output_type": "stream",
          "text": "Generation 1 - Current Pareto front scores:\n-1\t1.0\tRandomForestClassifier(input_matrix, RandomForestClassifier__bootstrap=False, RandomForestClassifier__criterion=gini, RandomForestClassifier__max_features=0.35000000000000003, RandomForestClassifier__min_samples_leaf=2, RandomForestClassifier__min_samples_split=4, RandomForestClassifier__n_estimators=100)\n\n_pre_test decorator: _random_mutation_operator: num_test=0 Input X must be non-negative\n_pre_test decorator: _random_mutation_operator: num_test=0 Input X must be non-negative\n",
          "name": "stdout"
        },
        {
          "output_type": "stream",
          "text": "Optimization Progress:  67%|██████▋   | 20/30 [00:06<00:06,  1.64pipeline/s]",
          "name": "stderr"
        },
        {
          "output_type": "stream",
          "text": "_pre_test decorator: _random_mutation_operator: num_test=0 Input X must be non-negative\n",
          "name": "stdout"
        },
        {
          "output_type": "stream",
          "text": "                                                                            \r",
          "name": "stderr"
        },
        {
          "output_type": "stream",
          "text": "Generation 2 - Current Pareto front scores:\n-1\t1.0\tRandomForestClassifier(input_matrix, RandomForestClassifier__bootstrap=False, RandomForestClassifier__criterion=gini, RandomForestClassifier__max_features=0.35000000000000003, RandomForestClassifier__min_samples_leaf=2, RandomForestClassifier__min_samples_split=4, RandomForestClassifier__n_estimators=100)\n\n",
          "name": "stdout"
        },
        {
          "output_type": "stream",
          "text": "Optimization Progress:  33%|███▎      | 10/30 [00:00<00:00, 304.05pipeline/s]",
          "name": "stderr"
        },
        {
          "output_type": "stream",
          "text": "_pre_test decorator: _generate: num_test=0 Input X must be non-negative\n_pre_test decorator: _generate: num_test=0 Input X must be non-negative\nPipeline encountered that has previously been evaluated during the optimization process. Using the score from the previous evaluation.\nPipeline encountered that has previously been evaluated during the optimization process. Using the score from the previous evaluation.\nPipeline encountered that has previously been evaluated during the optimization process. Using the score from the previous evaluation.\nPipeline encountered that has previously been evaluated during the optimization process. Using the score from the previous evaluation.\nPipeline encountered that has previously been evaluated during the optimization process. Using the score from the previous evaluation.\nPipeline encountered that has previously been evaluated during the optimization process. Using the score from the previous evaluation.\nPipeline encountered that has previously been evaluated during the optimization process. Using the score from the previous evaluation.\nPipeline encountered that has previously been evaluated during the optimization process. Using the score from the previous evaluation.\nPipeline encountered that has previously been evaluated during the optimization process. Using the score from the previous evaluation.\n_pre_test decorator: _random_mutation_operator: num_test=0 Input X must be non-negative\n",
          "name": "stdout"
        },
        {
          "output_type": "stream",
          "text": "Optimization Progress:  37%|███▋      | 11/30 [00:00<00:00, 29.05pipeline/s] ",
          "name": "stderr"
        },
        {
          "output_type": "stream",
          "text": "Invalid pipeline encountered. Skipping its evaluation.\n",
          "name": "stdout"
        },
        {
          "output_type": "stream",
          "text": "Optimization Progress:  67%|██████▋   | 20/30 [00:23<00:23,  2.31s/pipeline]",
          "name": "stderr"
        },
        {
          "output_type": "stream",
          "text": "Generation 1 - Current Pareto front scores:\n-1\t0.9990153169184485\tGradientBoostingClassifier(input_matrix, GradientBoostingClassifier__learning_rate=0.001, GradientBoostingClassifier__max_depth=8, GradientBoostingClassifier__max_features=0.3, GradientBoostingClassifier__min_samples_leaf=7, GradientBoostingClassifier__min_samples_split=10, GradientBoostingClassifier__n_estimators=100, GradientBoostingClassifier__subsample=0.9000000000000001)\n-2\t1.0\tRandomForestClassifier(PolynomialFeatures(input_matrix, PolynomialFeatures__degree=2, PolynomialFeatures__include_bias=False, PolynomialFeatures__interaction_only=False), RandomForestClassifier__bootstrap=True, RandomForestClassifier__criterion=entropy, RandomForestClassifier__max_features=0.55, RandomForestClassifier__min_samples_leaf=18, RandomForestClassifier__min_samples_split=16, RandomForestClassifier__n_estimators=100)\n\n_pre_test decorator: _random_mutation_operator: num_test=0 Input X must be non-negative\n_pre_test decorator: _random_mutation_operator: num_test=0 Input X must be non-negative\n",
          "name": "stdout"
        },
        {
          "output_type": "stream",
          "text": "Optimization Progress:  67%|██████▋   | 20/30 [00:23<00:16,  1.63s/pipeline]",
          "name": "stderr"
        },
        {
          "output_type": "stream",
          "text": "_pre_test decorator: _random_mutation_operator: num_test=0 Unsupported set of arguments: The combination of penalty='l1' and loss='squared_hinge' are not supported when dual=True, Parameters: penalty='l1', loss='squared_hinge', dual=True\n",
          "name": "stdout"
        },
        {
          "output_type": "stream",
          "text": "                                                                            \r",
          "name": "stderr"
        },
        {
          "output_type": "stream",
          "text": "Generation 2 - Current Pareto front scores:\n-1\t0.9990153169184485\tGradientBoostingClassifier(input_matrix, GradientBoostingClassifier__learning_rate=0.001, GradientBoostingClassifier__max_depth=8, GradientBoostingClassifier__max_features=0.3, GradientBoostingClassifier__min_samples_leaf=7, GradientBoostingClassifier__min_samples_split=10, GradientBoostingClassifier__n_estimators=100, GradientBoostingClassifier__subsample=0.9000000000000001)\n-2\t1.0\tRandomForestClassifier(PolynomialFeatures(input_matrix, PolynomialFeatures__degree=2, PolynomialFeatures__include_bias=False, PolynomialFeatures__interaction_only=False), RandomForestClassifier__bootstrap=True, RandomForestClassifier__criterion=entropy, RandomForestClassifier__max_features=0.55, RandomForestClassifier__min_samples_leaf=18, RandomForestClassifier__min_samples_split=16, RandomForestClassifier__n_estimators=100)\n\nTimes: [1.2512280698836549, 1.1037309137667761, 0.4617533429166845, 0.5888661408661089, 1.4639320732996566, 0.38775977193339106, 0.3067669304999678, 1.4813392576499609, 0.2746626281160085, 0.9987011370996091]\nScores: [1.0, 1.0, 1.0, 1.0, 1.0, 1.0, 1.0, 1.0, 1.0, 1.0]\nWinning pipelines: [Pipeline(memory=None,\n     steps=[('kneighborsclassifier', KNeighborsClassifier(algorithm='auto', leaf_size=30, metric='minkowski',\n           metric_params=None, n_jobs=None, n_neighbors=31, p=1,\n           weights='distance'))]), Pipeline(memory=None,\n     steps=[('randomforestclassifier', RandomForestClassifier(bootstrap=True, class_weight=None, criterion='entropy',\n            max_depth=None, max_features=0.55, max_leaf_nodes=None,\n            min_impurity_decrease=0.0, min_impurity_split=None,\n            min_samples_leaf=18, min_samples_split=18,\n            min_weight_fraction_leaf=0.0, n_estimators=100, n_jobs=None,\n            oob_score=False, random_state=None, verbose=0,\n            warm_start=False))]), Pipeline(memory=None,\n     steps=[('polynomialfeatures', PolynomialFeatures(degree=2, include_bias=False, interaction_only=False)), ('randomforestclassifier', RandomForestClassifier(bootstrap=True, class_weight=None, criterion='entropy',\n            max_depth=None, max_features=0.55, max_leaf_nodes=None,\n            min_impur...obs=None,\n            oob_score=False, random_state=None, verbose=0,\n            warm_start=False))]), Pipeline(memory=None,\n     steps=[('extratreesclassifier', ExtraTreesClassifier(bootstrap=False, class_weight=None, criterion='gini',\n           max_depth=None, max_features=0.5, max_leaf_nodes=None,\n           min_impurity_decrease=0.0, min_impurity_split=None,\n           min_samples_leaf=2, min_samples_split=18,\n           min_weight_fraction_leaf=0.0, n_estimators=100, n_jobs=None,\n           oob_score=False, random_state=None, verbose=0, warm_start=False))]), Pipeline(memory=None,\n     steps=[('gradientboostingclassifier', GradientBoostingClassifier(criterion='friedman_mse', init=None,\n              learning_rate=1.0, loss='deviance', max_depth=7,\n              max_features=0.8500000000000001, max_leaf_nodes=None,\n              min_impurity_decrease=0.0, min_impurity_split=None,\n ....7500000000000001, tol=0.0001,\n              validation_fraction=0.1, verbose=0, warm_start=False))]), Pipeline(memory=None,\n     steps=[('randomforestclassifier', RandomForestClassifier(bootstrap=True, class_weight=None, criterion='entropy',\n            max_depth=None, max_features=0.55, max_leaf_nodes=None,\n            min_impurity_decrease=0.0, min_impurity_split=None,\n            min_samples_leaf=19, min_samples_split=16,\n            min_weight_fraction_leaf=0.0, n_estimators=100, n_jobs=None,\n            oob_score=False, random_state=None, verbose=0,\n            warm_start=False))]), Pipeline(memory=None,\n     steps=[('polynomialfeatures', PolynomialFeatures(degree=2, include_bias=False, interaction_only=False)), ('randomforestclassifier', RandomForestClassifier(bootstrap=True, class_weight=None, criterion='entropy',\n            max_depth=None, max_features=0.55, max_leaf_nodes=None,\n            min_impur...obs=None,\n            oob_score=False, random_state=None, verbose=0,\n            warm_start=False))]), Pipeline(memory=None,\n     steps=[('polynomialfeatures', PolynomialFeatures(degree=2, include_bias=False, interaction_only=False)), ('randomforestclassifier', RandomForestClassifier(bootstrap=True, class_weight=None, criterion='entropy',\n            max_depth=None, max_features=0.55, max_leaf_nodes=None,\n            min_impur...obs=None,\n            oob_score=False, random_state=None, verbose=0,\n            warm_start=False))]), Pipeline(memory=None,\n     steps=[('randomforestclassifier', RandomForestClassifier(bootstrap=False, class_weight=None, criterion='gini',\n            max_depth=None, max_features=0.35000000000000003,\n            max_leaf_nodes=None, min_impurity_decrease=0.0,\n            min_impurity_split=None, min_samples_leaf=2,\n            min_samples_split=4, min_weight_fraction_leaf=0.0,\n            n_estimators=100, n_jobs=None, oob_score=False,\n            random_state=None, verbose=0, warm_start=False))]), Pipeline(memory=None,\n     steps=[('polynomialfeatures', PolynomialFeatures(degree=2, include_bias=False, interaction_only=False)), ('randomforestclassifier', RandomForestClassifier(bootstrap=True, class_weight=None, criterion='entropy',\n            max_depth=None, max_features=0.55, max_leaf_nodes=None,\n            min_impur...obs=None,\n            oob_score=False, random_state=None, verbose=0,\n            warm_start=False))])]\n",
          "name": "stdout"
        }
      ]
    },
    {
      "metadata": {
        "_uuid": "5513604feb805a6234d0a23c9934e0fb7b0d815e"
      },
      "cell_type": "markdown",
      "source": "Make a data frame of the time to fit thirty pipelines ten times  are from a previous uncommitted run. All scores on the test set were 1.0."
    },
    {
      "metadata": {
        "trusted": true,
        "_uuid": "0dd4760511e416a50741da21378bfee2eee79822"
      },
      "cell_type": "code",
      "source": "# timeo = [1.6234928817333032, 1.162914126116084, 0.6119730584498029, 0.9018127734161681, \n#          2.0324099983001362, 0.45596561313335165, 0.4123572280164808, 1.9914514322998003, \n#          0.31134609155027043, 2.268216603050435]  # previous times\ntimeo = np.array(times)\ndf = pd.DataFrame(np.reshape(timeo, (len(timeo))))\ndf= df.rename(columns={0: \"Times\"})\ndf = df.reset_index()\ndf = df.rename(columns = {\"index\": \"Runs\"})\nprint(df)",
      "execution_count": 14,
      "outputs": [
        {
          "output_type": "stream",
          "text": "   Runs     Times\n0     0  1.251228\n1     1  1.103731\n2     2  0.461753\n3     3  0.588866\n4     4  1.463932\n5     5  0.387760\n6     6  0.306767\n7     7  1.481339\n8     8  0.274663\n9     9  0.998701\n",
          "name": "stdout"
        }
      ]
    },
    {
      "metadata": {
        "_uuid": "ef55103b08af08a89e2361fcbc1af7637fa57c72"
      },
      "cell_type": "markdown",
      "source": "Make a seaborn barplot of the TPOT fit times for 10 pipelines."
    },
    {
      "metadata": {
        "trusted": true,
        "_uuid": "65b111c80b58566554da6364f6637cc9b28c4be9"
      },
      "cell_type": "code",
      "source": "ax = sns.barplot(x= np.arange(1, 11), y = \"Times\", data = df)\nax.set(xlabel='Run # for Set of 30 Pipelines', ylabel='Time in Minutes')\nplt.title(\"TPOT Run Times for Mushroom Dataset\")\nplt.show()",
      "execution_count": 15,
      "outputs": [
        {
          "output_type": "display_data",
          "data": {
            "text/plain": "<Figure size 432x288 with 1 Axes>",
            "image/png": "[encoded data removed]"
          },
          "metadata": {}
        }
      ]
    }
  ],
  "metadata": {
    "kernelspec": {
      "display_name": "Python 3",
      "language": "python",
      "name": "python3"
    },
    "language_info": {
      "name": "python",
      "version": "3.6.6",
      "mimetype": "text/x-python",
      "codemirror_mode": {
        "name": "ipython",
        "version": 3
      },
      "pygments_lexer": "ipython3",
      "nbconvert_exporter": "python",
      "file_extension": ".py"
    }
  },
  "nbformat": 4,
  "nbformat_minor": 1
}
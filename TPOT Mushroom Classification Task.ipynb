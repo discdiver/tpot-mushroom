{
  "cells": [
    {
      "metadata": {
        "_uuid": "d41b1aa59a41b1fe6ff243b6d47fd4ed0f6c53d7"
      },
      "cell_type": "markdown",
      "source": "# TPOT Automated ML Exploration with Mushroom Classification \n## By Jeff Hale\n\nThis is my experimentation with the TPOT automated machine learning algorithm with the Mushroom classification task. For more information see [this Medium article](https://medium.com/p/4c063b3e5de9/) I wrote discussing TPOT. "
    },
    {
      "metadata": {
        "_uuid": "8f2839f25d086af736a60e9eeb907d3b93b6e0e5",
        "_cell_guid": "b1076dfc-b9ad-4769-8c92-a6c4dae69d19",
        "trusted": true,
        "scrolled": false
      },
      "cell_type": "code",
      "source": "# import the usual packages\nimport time\nimport gc\nimport pandas as pd\nimport numpy as np\nimport matplotlib.pyplot as plt\nimport seaborn as sns\nimport timeit\nimport category_encoders\n\nfrom sklearn.preprocessing import LabelEncoder\nfrom sklearn.model_selection import cross_val_score\nfrom sklearn.model_selection import train_test_split\nfrom tpot import TPOTClassifier\n\npd.options.display.max_columns = 200\npd.options.display.width = 200\n\n%matplotlib inline\nsns.set(font_scale=1.5, palette=\"colorblind\")\n\n# Input data files are available in the \"../input/\" directory.\n# For example, running this (by clicking run or pressing Shift+Enter) will list the files in the input directory\nimport os\nprint(os.listdir(\"../input\"))",
      "execution_count": null,
      "outputs": []
    },
    {
      "metadata": {
        "_uuid": "119abcb312525ad1811a1ca793311e16c446a0d0"
      },
      "cell_type": "markdown",
      "source": "Read in the data, encode it, and split it into training and test sets."
    },
    {
      "metadata": {
        "_cell_guid": "79c7e3d0-c299-4dcb-8224-4455121ee9b0",
        "_uuid": "d629ff2d2480ee46fbb7e2d37f6b5fab8052498a",
        "trusted": true,
        "scrolled": true
      },
      "cell_type": "code",
      "source": "df = pd.read_csv('../input/agaricus-lepiota.csv')\n\nX = df.reindex(columns=[x for x in df.columns.values if x != 'class'])        # separate out X\nX = X.apply(LabelEncoder().fit_transform)  # encode the x columns string values as integers\n\ny = df.reindex(columns=['class'])   # separate out y\nprint(y['class'].value_counts())\ny = np.ravel(y)                     # flatten the y array\ny = LabelEncoder().fit_transform(y) # encode y column strings as integer\n\nX_train, X_test, y_train, y_test = train_test_split(X, y, train_size=0.75, test_size=0.25, random_state=10) ",
      "execution_count": null,
      "outputs": []
    },
    {
      "metadata": {
        "_uuid": "fd6f25a0b25f2a656ca72607491f29c66d18a322"
      },
      "cell_type": "markdown",
      "source": "Check out the data "
    },
    {
      "metadata": {
        "trusted": true,
        "_uuid": "42b9c07ceb32b1f03fc4fcc5929b53cb3b9ac4fe",
        "scrolled": true
      },
      "cell_type": "code",
      "source": "print(X_train.describe())\nprint(X_train.info())",
      "execution_count": null,
      "outputs": []
    },
    {
      "metadata": {
        "_uuid": "18a1d4d4df91f593170bbc1252a1944761235874"
      },
      "cell_type": "markdown",
      "source": "Instantiate TPOTclassifier object - the generation and population_size determine how many populations are made."
    },
    {
      "metadata": {
        "trusted": true,
        "scrolled": false,
        "_uuid": "c6c127aef966f70eff15497c892bae81833b82ff"
      },
      "cell_type": "code",
      "source": "tpot = TPOTClassifier(verbosity=3, \n                      scoring=\"accuracy\", \n                      random_state=10, \n                      periodic_checkpoint_folder=\"tpot_mushroom_results\", \n                      n_jobs=-1, \n                      generations=2, \n                      population_size=10)\ntimes = []\nscores = []\nwinning_pipes = []\n\n# run several fits \nfor x in range(10):\n    start_time = timeit.default_timer()\n    tpot.fit(X_train, y_train)\n    elapsed = timeit.default_timer() - start_time\n    times.append(elapsed)\n    winning_pipes.append(tpot.fitted_pipeline_)\n    scores.append(tpot.score(X_test, y_test))\n    tpot.export('tpot_mushroom.py')\n\n# output results\ntimes = [time/60 for time in times]\nprint('Times:', times)\nprint('Scores:', scores)   \nprint('Winning pipelines:', winning_pipes)",
      "execution_count": null,
      "outputs": []
    },
    {
      "metadata": {
        "_uuid": "5513604feb805a6234d0a23c9934e0fb7b0d815e"
      },
      "cell_type": "markdown",
      "source": "Make a data frame of the time to fit thirty pipelines ten times  are from a previous uncommitted run. All scores on the test set were 1.0."
    },
    {
      "metadata": {
        "trusted": true,
        "_uuid": "0dd4760511e416a50741da21378bfee2eee79822"
      },
      "cell_type": "code",
      "source": "timeo = [1.6234928817333032, 1.162914126116084, 0.6119730584498029, 0.9018127734161681, 2.0324099983001362, 0.45596561313335165, 0.4123572280164808, 1.9914514322998003, 0.31134609155027043, 2.268216603050435]\ntimeo = np.array(timeo)\ndf = pd.DataFrame(np.reshape(timeo, (len(timeo))))\ndf= df.rename(columns={0: \"Times\"})\ndf = df.reset_index()\ndf = df.rename(columns = {\"index\": \"Runs\"})\nprint(df)",
      "execution_count": null,
      "outputs": []
    },
    {
      "metadata": {
        "_uuid": "ef55103b08af08a89e2361fcbc1af7637fa57c72"
      },
      "cell_type": "markdown",
      "source": "Make a seaborn barplot of the TPOT fit times for 30 pipelines."
    },
    {
      "metadata": {
        "trusted": true,
        "_uuid": "65b111c80b58566554da6364f6637cc9b28c4be9"
      },
      "cell_type": "code",
      "source": "ax = sns.barplot(x= np.arange(1, 11), y = \"Times\", data = df)\nax.set(xlabel='Run # for Set of 30 Pipelines', ylabel='Time in Minutes')\nplt.title(\"TPOT Run Times for Mushroom Dataset\")\nplt.show()",
      "execution_count": null,
      "outputs": []
    }
  ],
  "metadata": {
    "kernelspec": {
      "display_name": "Python 3",
      "language": "python",
      "name": "python3"
    },
    "language_info": {
      "name": "python",
      "version": "3.6.6",
      "mimetype": "text/x-python",
      "codemirror_mode": {
        "name": "ipython",
        "version": 3
      },
      "pygments_lexer": "ipython3",
      "nbconvert_exporter": "python",
      "file_extension": ".py"
    }
  },
  "nbformat": 4,
  "nbformat_minor": 1
}